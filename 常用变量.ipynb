{
 "cells": [
  {
   "cell_type": "markdown",
   "metadata": {},
   "source": [
    "## 常用变量"
   ]
  },
  {
   "cell_type": "markdown",
   "metadata": {},
   "source": [
    "### 波动率"
   ]
  },
  {
   "cell_type": "code",
   "execution_count": 1,
   "metadata": {},
   "outputs": [],
   "source": [
    "# 计算原始价格序列波动率\n",
    "def annual_std_volatility(series, windows_std):\n",
    "    \"\"\"计算原始序列的波动率\n",
    "    Calculation of the volatility of the original sequence.\n",
    "    Parameters\n",
    "    ==========\n",
    "    series: array\n",
    "    windows_std: int\n",
    "    Object to calculate the volatility\n",
    "    \"\"\"\n",
    "    series = np.array(series)\n",
    "    series_ema = series - talib.EMA(series, windows_std)\n",
    "    series_sqt = series_ema ** 2\n",
    "    std_series_ema = talib.EMA(series_sqt, windows_std)\n",
    "    return np.sqrt(std_series_ema * 256.0 / windows_std)\n",
    "\n",
    "\n",
    "# 计算价格序列收益率的波动率\n",
    "def annual_std_return_volatility(series, windows_std):\n",
    "    \"\"\"计算给定序列收益率的波动率\n",
    "    Calculation of the volatility of return.\n",
    "    \"\"\"\n",
    "    series_return = (series[1:] / series[:-1]) - 1.0\n",
    "    return annual_std_volatility(series_return, windows_std)"
   ]
  },
  {
   "cell_type": "markdown",
   "metadata": {},
   "source": [
    "### 获取主力合约"
   ]
  },
  {
   "cell_type": "code",
   "execution_count": 2,
   "metadata": {},
   "outputs": [],
   "source": [
    "def get_continuous_contract(api, product, trade_date):\n",
    "    \"\"\"给定连1、连2合约的代码：如 product = [\"cuZ0.CF\", \"cuZ1.CF\"]\n",
    "    返回给定合约，当前时刻对应的连续合约代码\n",
    "    trade_date: int,20150101\n",
    "    \"\"\"\n",
    "    codes = [dataAPI.getContinuousSymbol(str(symbol), trade_date) for symbol in product]\n",
    "    return codes\n",
    "\n",
    "\n",
    "# 最好是按照下面的方式写，直接把合约作为局部变量，而不是作为参数传入\n",
    "def get_contract(trade_date):\n",
    "    \"\"\"获取交易合约的第一种方式\n",
    "    trade_date的输入格式如20150101\n",
    "    以rb的换仓时间点为基准\n",
    "    \"\"\"\n",
    "    symbols = ['rbZ0.CF', 'iZ0.CF', 'jZ0.CF']\n",
    "    rb_symbol = dataAPI.getContinuousSymbol(symbols[0], trade_date)\n",
    "    contract = slice(2, len(rb_symbol))\n",
    "    codes1 = [symbol.replace('Z0.CF', rb_symbol[contract]) for symbol in symbols]\n",
    "    codes2 = [symbol.replace('10', '09') for symbol in codes1]\n",
    "    codes2[0] = rb_symbol\n",
    "    return codes2"
   ]
  },
  {
   "cell_type": "markdown",
   "metadata": {},
   "source": [
    "### 设计交易策略"
   ]
  },
  {
   "cell_type": "code",
   "execution_count": 4,
   "metadata": {},
   "outputs": [],
   "source": [
    "# 按照设计函数的方式，返回trade_side列表，以后就可以直接调用\n",
    "def strategy_boll_band_breakout(spread_df):\n",
    "    \"\"\"\n",
    "    根据给定的spread_df序列(spread_df 为 pd.Series格式)，\n",
    "    根据布林带动量突破逻辑，作为开平仓信号\n",
    "    计算出每次开仓信号返回：trade_side列表\n",
    "    \"\"\"\n",
    "    spread = spread_df.values\n",
    "    trade_side = [0, 0]\n",
    "    windows_len_mean = 20\n",
    "    std_open = 1\n",
    "    upper_band, middle, lower_band = talib.BBANDS(spread, timeperiod=windows_len_mean,\n",
    "                                                  nbdevup=std_open, nbdevdn=std_open, matype=0)\n",
    "    # 开仓条件\n",
    "    if spread[-1] > upper_band[-1] and spread[-2] <= upper_band[-2]:\n",
    "        trade_side.append(1)    # 突破上轨开多\n",
    "    elif spread[-1] < lower_band[-1] and spread[-2] >= lower_band[-2]:\n",
    "        trade_side.append(-1)   # 突破下轨开空\n",
    "\n",
    "    # 平仓条件\n",
    "    if (spread[-1] >= middle[-1] and spread[-2] <= middle[-2]) and (trade_side[-1] == -1):\n",
    "        trade_side.append(0)  # 空平\n",
    "    elif (spread[-1] <= middle[-1] and spread[-2] >= middle[-2]) and (trade_side[-1] == 1):\n",
    "        trade_side.append(0)  # 多平\n",
    "\n",
    "    return trade_side"
   ]
  },
  {
   "cell_type": "markdown",
   "metadata": {},
   "source": [
    "### 获取收盘价（或者加入高开低收成交量）"
   ]
  },
  {
   "cell_type": "code",
   "execution_count": 5,
   "metadata": {},
   "outputs": [],
   "source": [
    "def get_history_close(api, symbol, n_days):\n",
    "    \"\"\"\n",
    "    获取给定 symbol 过去 n_days个交易日的数据\n",
    "    少于 n_days就以上一年度的数据填充。\n",
    "    eg:取'j1501'过去120个交易日数据\n",
    "       少于部分以'j1401'填充\n",
    "    数据返回 DataFrame格式\n",
    "    \"\"\"\n",
    "    year = slice(-7, -3)\n",
    "    symbol_last = symbol[:-7] + str(int(symbol[year]) - 100) + symbol[-3:]\n",
    "    str_fields = ['tradeDate', 'close']\n",
    "    str_index = 'tradeDate'\n",
    "    df_close = api.getBarsHistory(symbol=symbol, timeSpan=ETimeSpan.DAY_1, skipSuspended=1, count=n_days,\n",
    "                                  df=True, priceMode=EPriceMode.REAL, fields=str_fields).set_index(str_index)\n",
    "    length = len(df_close)\n",
    "    if length < n_days:\n",
    "        n_days = n_days - length\n",
    "        df_last = api.getBarsHistory(symbol=symbol_last, timeSpan=ETimeSpan.DAY_1, skipSuspended=1, count=n_days,\n",
    "                                     df=True, priceMode=EPriceMode.REAL, fields=str_fields).set_index(str_index)\n",
    "        df = pd.concat([df_last, df_close])\n",
    "    else:\n",
    "        df = df_close\n",
    "    return df"
   ]
  },
  {
   "cell_type": "markdown",
   "metadata": {},
   "source": [
    "### 计算交易手数"
   ]
  },
  {
   "cell_type": "code",
   "execution_count": 6,
   "metadata": {},
   "outputs": [],
   "source": [
    "def capital_lots(used_capital_ratio, close, capital, multiple, leverage, cumpnl_raw):\n",
    "    \"\"\"根据资金使用比例，计算开仓手数\n",
    "    return\n",
    "    ======\n",
    "    lots: 开仓手数\n",
    "    \"\"\"\n",
    "    margin_rate = 0.2  # 保证金比例， 10%\n",
    "    can_used_market_value = cumpnl_raw / margin_rate\n",
    "    limit_lots = int(can_used_market_value / (2 * close * multiple))\n",
    "    # 资金设置\n",
    "    lots = int(used_capital_ratio * leverage * capital / (close * multiple))\n",
    "    lots = np.min((lots, limit_lots))\n",
    "    if lots == 0:\n",
    "        lots = 1\n",
    "    return lots"
   ]
  },
  {
   "cell_type": "markdown",
   "metadata": {},
   "source": [
    "### 计算资金使用占比， 资金管理策略"
   ]
  },
  {
   "cell_type": "code",
   "execution_count": 7,
   "metadata": {},
   "outputs": [],
   "source": [
    "def capital_used_ratio(api, account_equity):\n",
    "    \"\"\"\n",
    "    根据账户权益，对策略整体收益率的波动率建模预测，计算资金使用率，用于仓位分配\n",
    "    Parameters\n",
    "    ==========\n",
    "    account_equity: array like.\n",
    "    返回：float, return the rate of use of capital\n",
    "    \"\"\"\n",
    "    if len(account_equity) >= 120:\n",
    "        std_return_volatility = annual_std_return_volatility(account_equity, 90)\n",
    "        X = sm.add_constant(std_return_volatility[-41:-1], prepend=True)\n",
    "        beta_hat = sm.RLM(std_return_volatility[-40:], X).fit().params\n",
    "        std_return_volatility_predict = beta_hat[0] + beta_hat[1] * std_return_volatility[-1]\n",
    "        used_capital_ratio = max(api.account_level_min,\n",
    "                                 min(api.vol_target_S / std_return_volatility_predict, api.account_level_max))\n",
    "    else:\n",
    "        used_capital_ratio = 0.8\n",
    "    return used_capital_ratio"
   ]
  },
  {
   "cell_type": "markdown",
   "metadata": {},
   "source": [
    "### 计算合约价值与最小变动单位"
   ]
  },
  {
   "cell_type": "code",
   "execution_count": null,
   "metadata": {},
   "outputs": [],
   "source": [
    "def get_multiplier(symbol):\n",
    "    \"\"\"\n",
    "    获取给定symbol标的的基本信息\n",
    "    Returns:\n",
    "    =======\n",
    "    marginRate:  保证金比例\n",
    "    valuePerUnit: 合约价值\n",
    "    priceTick: 最小变动单位\n",
    "    只返回合约价值valuePerUnit\n",
    "    \"\"\"\n",
    "    ref_data = dataAPI.getRefData(symbol)\n",
    "    multiplier = ref_data.valuePerUnit\n",
    "    priceTick = ref_data.priceTick\n",
    "    return multiplier, priceTick"
   ]
  }
 ],
 "metadata": {
  "kernelspec": {
   "display_name": "Python 3",
   "language": "python",
   "name": "python3"
  },
  "language_info": {
   "codemirror_mode": {
    "name": "ipython",
    "version": 3
   },
   "file_extension": ".py",
   "mimetype": "text/x-python",
   "name": "python",
   "nbconvert_exporter": "python",
   "pygments_lexer": "ipython3",
   "version": "3.6.5"
  }
 },
 "nbformat": 4,
 "nbformat_minor": 2
}
